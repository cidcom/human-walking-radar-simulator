{
 "cells": [
  {
   "cell_type": "code",
   "execution_count": 1,
   "id": "2e5f8dd3-b208-4dd2-8fbf-482065547642",
   "metadata": {},
   "outputs": [],
   "source": [
    "%load_ext autoreload\n",
    "%autoreload 2"
   ]
  },
  {
   "cell_type": "code",
   "execution_count": 2,
   "id": "ea843943-977c-4499-b039-29d7e545f758",
   "metadata": {},
   "outputs": [],
   "source": [
    "from src import *"
   ]
  },
  {
   "cell_type": "markdown",
   "id": "1fd28d6f-3d90-40da-ae4d-65b98d28e17e",
   "metadata": {},
   "source": [
    "The following example will generate 10 samples oh human motion with corresponding configuration:"
   ]
  },
  {
   "cell_type": "code",
   "execution_count": 10,
   "id": "96ca27ff-ee4d-4379-8277-049905493c00",
   "metadata": {},
   "outputs": [
    {
     "name": "stdout",
     "output_type": "stream",
     "text": [
      "{'fs': 100, 'simulator': {'forward_motion': False, 'duration': 11, 'height': [1.2, 1.8], 'rv': [0.2, 1.0], 'radarloc': [0, 10, 0], 'lambda_': 0.012491352416666667, 'rangeres': 0.01, 'body_parts': {'Head': 1, 'Torso': 1, 'Left Shoulder': 1, 'Right Shoulder': 1, 'Left Upper Arm': 1, 'Right Upper Arm': 1, 'Left Lower Arm': 1, 'Right Lower Arm': 1, 'Left Hip': 1, 'Right Hip': 1, 'Left Upper Leg': 1, 'Right Upper Leg': 1, 'Left Lower Leg': 1, 'Right Lower Leg': 1, 'Left Foot': 1, 'Right Foot': 1}}}\n"
     ]
    }
   ],
   "source": [
    "config = ExampleConfig\n",
    "print(config)"
   ]
  },
  {
   "cell_type": "code",
   "execution_count": 3,
   "id": "0c382681-ba62-4030-97fe-80b570f000fe",
   "metadata": {},
   "outputs": [
    {
     "name": "stdout",
     "output_type": "stream",
     "text": [
      "{'fs': 100, 'simulator': {'forward_motion': False, 'duration': 11, 'height': [1.2, 1.8], 'rv': [0.2, 1.0], 'radarloc': [0, 10, 0], 'lambda_': 0.012491352416666667, 'rangeres': 0.01, 'body_parts': {'Head': 1, 'Torso': 1, 'Left Shoulder': 1, 'Right Shoulder': 1, 'Left Upper Arm': 1, 'Right Upper Arm': 1, 'Left Lower Arm': 1, 'Right Lower Arm': 1, 'Left Hip': 1, 'Right Hip': 1, 'Left Upper Leg': 1, 'Right Upper Leg': 1, 'Left Lower Leg': 1, 'Right Lower Leg': 1, 'Left Foot': 1, 'Right Foot': 1}}}\n"
     ]
    }
   ],
   "source": [
    "n_samples = 10\n",
    "\n",
    "generate(config, n_samples)"
   ]
  }
 ],
 "metadata": {
  "kernelspec": {
   "display_name": "Python [conda env:miko-torch] *",
   "language": "python",
   "name": "conda-env-miko-torch-py"
  },
  "language_info": {
   "codemirror_mode": {
    "name": "ipython",
    "version": 3
   },
   "file_extension": ".py",
   "mimetype": "text/x-python",
   "name": "python",
   "nbconvert_exporter": "python",
   "pygments_lexer": "ipython3",
   "version": "3.8.17"
  }
 },
 "nbformat": 4,
 "nbformat_minor": 5
}
